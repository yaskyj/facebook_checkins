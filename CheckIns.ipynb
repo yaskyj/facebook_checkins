{
 "cells": [
  {
   "cell_type": "code",
   "execution_count": 1,
   "metadata": {
    "collapsed": false
   },
   "outputs": [
    {
     "name": "stdout",
     "output_type": "stream",
     "text": [
      "CPU times: user 909 ms, sys: 235 ms, total: 1.14 s\n",
      "Wall time: 1.72 s\n"
     ]
    }
   ],
   "source": [
    "%%time\n",
    "from time import time\n",
    "import warnings\n",
    "warnings.filterwarnings('ignore')\n",
    "import ml_metrics as metrics\n",
    "import pandas as pd\n",
    "import numpy as np\n",
    "from sklearn import cross_validation, ensemble, tree, preprocessing, neighbors, naive_bayes, svm\n",
    "from sklearn.grid_search import GridSearchCV\n",
    "from sklearn.metrics import confusion_matrix, precision_recall_fscore_support, accuracy_score\n",
    "le = preprocessing.LabelEncoder()\n",
    "import xgboost as xgb\n",
    "from datetime import datetime, date\n",
    "from sklearn.preprocessing import StandardScaler\n",
    "from sklearn.preprocessing import OneHotEncoder\n",
    "import matplotlib.pylab as plt\n",
    "from mpl_toolkits.mplot3d import Axes3D\n",
    "%matplotlib inline"
   ]
  },
  {
   "cell_type": "code",
   "execution_count": 2,
   "metadata": {
    "collapsed": false
   },
   "outputs": [
    {
     "name": "stdout",
     "output_type": "stream",
     "text": [
      "CPU times: user 12 µs, sys: 1e+03 ns, total: 13 µs\n",
      "Wall time: 17.9 µs\n"
     ]
    }
   ],
   "source": [
    "%%time\n",
    "import numpy as np\n",
    "\n",
    "def apk(actual, predicted, k=10):\n",
    "    \"\"\"\n",
    "    Computes the average precision at k.\n",
    "    This function computes the average prescision at k between two lists of\n",
    "    items.\n",
    "    Parameters\n",
    "    ----------\n",
    "    actual : list\n",
    "             A list of elements that are to be predicted (order doesn't matter)\n",
    "    predicted : list\n",
    "                A list of predicted elements (order does matter)\n",
    "    k : int, optional\n",
    "        The maximum number of predicted elements\n",
    "    Returns\n",
    "    -------\n",
    "    score : double\n",
    "            The average precision at k over the input lists\n",
    "    \"\"\"\n",
    "    if len(predicted)>k:\n",
    "        predicted = predicted[:k]\n",
    "\n",
    "    score = 0.0\n",
    "    num_hits = 0.0\n",
    "\n",
    "    for i,p in enumerate(predicted):\n",
    "        if p in actual and p not in predicted[:i]:\n",
    "            num_hits += 1.0\n",
    "            score += num_hits / (i+1.0)\n",
    "\n",
    "    if not actual:\n",
    "        return 0.0\n",
    "\n",
    "    return score / min(len(actual), k)\n",
    "\n",
    "def mapk(actual, predicted, k=10):\n",
    "    \"\"\"\n",
    "    Computes the mean average precision at k.\n",
    "    This function computes the mean average prescision at k between two lists\n",
    "    of lists of items.\n",
    "    Parameters\n",
    "    ----------\n",
    "    actual : list\n",
    "             A list of lists of elements that are to be predicted \n",
    "             (order doesn't matter in the lists)\n",
    "    predicted : list\n",
    "                A list of lists of predicted elements\n",
    "                (order matters in the lists)\n",
    "    k : int, optional\n",
    "        The maximum number of predicted elements\n",
    "    Returns\n",
    "    -------\n",
    "    score : double\n",
    "            The mean average precision at k over the input lists\n",
    "    \"\"\"\n",
    "    return np.mean([apk(a,p,k) for a,p in zip(actual, predicted)])"
   ]
  },
  {
   "cell_type": "code",
   "execution_count": null,
   "metadata": {
    "collapsed": false
   },
   "outputs": [],
   "source": [
    "%%time\n",
    "ids = []\n",
    "predictions = []"
   ]
  },
  {
   "cell_type": "code",
   "execution_count": 3,
   "metadata": {
    "collapsed": false
   },
   "outputs": [
    {
     "name": "stdout",
     "output_type": "stream",
     "text": [
      "CPU times: user 30.3 s, sys: 5.85 s, total: 36.2 s\n",
      "Wall time: 39.1 s\n"
     ]
    }
   ],
   "source": [
    "%%time\n",
    "train = pd.read_csv('train.csv')\n",
    "test = pd.read_csv('test.csv')"
   ]
  },
  {
   "cell_type": "code",
   "execution_count": null,
   "metadata": {
    "collapsed": false,
    "scrolled": true
   },
   "outputs": [],
   "source": [
    "%%time\n",
    "for i in np.arange(2.5,5,.25):\n",
    "    for r in np.arange(0,10,.25):\n",
    "        train_reduced = train[(train.x >= i) & (train.x <= (i + .25)) & (train.y >= r) & (train.y <= (r + .25))]\n",
    "        if i == 9.75 and r == 9.75:\n",
    "            test_reduced = test[(test.x >= i) & (test.x <= (i + .25)) & (test.y >= r) & (test.y <= (r + .25))]\n",
    "        elif i == 9.75:\n",
    "            test_reduced = test[(test.x >= i) & (test.x <= (i + .25)) & (test.y >= r) & (test.y < (r + .25))]\n",
    "        elif r == 9.75:\n",
    "            test_reduced = test[(test.x >= i) & (test.x < (i + .25)) & (test.y >= r) & (test.y <= (r + .25))]\n",
    "        else:\n",
    "            test_reduced = test[(test.x >= i) & (test.x < (i + .25)) & (test.y >= r) & (test.y < (r + .25))]\n",
    "#         small_counts = train_reduced['place_id'].value_counts()\n",
    "#         print 'Test: ',i, (i + .5), r, (r + .5), len(train_reduced[train_reduced['place_id'].isin(small_counts[small_counts > 100].index)]), len(test_reduced)\n",
    "        print 'Test: ',i, (i + .25), r, (r + .25), len(train_reduced), len(test_reduced)\n",
    "#         train_reduced['day_number'] = ((train_reduced['time']/60)//24).astype(int)\n",
    "        train_reduced['seconds'] = (train_reduced['time'] * 60)\n",
    "        train_reduced['date_time'] = pd.to_datetime(train_reduced['seconds'],unit='s')\n",
    "        train_reduced['hour'] = train_reduced['date_time'].dt.hour\n",
    "        train_reduced['day'] = train_reduced['date_time'].dt.day\n",
    "        train_reduced['dow'] = train_reduced['date_time'].dt.dayofweek\n",
    "        train_reduced.x.replace(0, .0001, inplace=True)\n",
    "        train_reduced.y.replace(0, .0001, inplace=True)\n",
    "        train_reduced['div']= (train_reduced.x / train_reduced.y)\n",
    "        train_reduced['multi']= (train_reduced.x * train_reduced.y)\n",
    "        train_reduced['squadd']= (train_reduced.x**2 + train_reduced.y**2)\n",
    "        \n",
    "#         test_reduced['day_number'] = ((test_reduced['time']/60)//24).astype(int)\n",
    "        test_reduced['seconds'] = (test_reduced['time'] * 60)\n",
    "        test_reduced['date_time'] = pd.to_datetime(test_reduced['seconds'],unit='s')\n",
    "        test_reduced['hour'] = test_reduced['date_time'].dt.hour\n",
    "        test_reduced['day'] = test_reduced['date_time'].dt.day\n",
    "        test_reduced['dow'] = test_reduced['date_time'].dt.dayofweek\n",
    "        test_reduced.x.replace(0, .0001, inplace=True)\n",
    "        test_reduced.y.replace(0, .0001, inplace=True)\n",
    "        test_reduced['div']= (test_reduced.x / test_reduced.y)\n",
    "        test_reduced['multi']= (test_reduced.x * test_reduced.y)\n",
    "        test_reduced['squadd']= (test_reduced.x**2 + test_reduced.y**2)\n",
    "        features = [c for c in train_reduced.columns if c in ['x', 'y', 'accuracy', 'hour', 'day', 'dow', 'div', 'multi', 'squadd']]\n",
    "#         features = [c for c in train_reduced.columns if c in ['x', 'y', 'accuracy', 'hour', 'day', 'dow']]\n",
    "#         bayes = naive_bayes.GaussianNB().fit(train_reduced[features], train_reduced['place_id'])\n",
    "        forest = ensemble.RandomForestClassifier(n_estimators=70, min_samples_leaf=5, n_jobs=-1).fit(train_reduced[features], train_reduced['place_id'])\n",
    "#         forest = ensemble.RandomForestClassifier(n_estimators=20, n_jobs=-1).fit(train_reduced[train_reduced['place_id'].isin(small_counts[small_counts > 100].index)][features], train_reduced[train_reduced['place_id'].isin(small_counts[small_counts > 100].index)]['place_id'])\n",
    "        probs = pd.DataFrame(forest.predict_proba(test_reduced[features]))\n",
    "#         probs.columns = np.unique(train_reduced[train_reduced['place_id'].isin(small_counts[small_counts > 100].index)]['place_id'].values)\n",
    "        probs.columns = np.unique(train_reduced['place_id'].sort_values().values)\n",
    "        preds = pd.DataFrame([list([p.sort_values(ascending=False)[:3].index.values]) for x,p in probs.iterrows()])\n",
    "        #pred = clf_rf.predict(test_reduced[features])\n",
    "        print 'All Good: ',i, (i + .25), r, (r + .25), len(test_reduced['row_id']), len(preds)\n",
    "        ids.append(list(test_reduced['row_id'].values))\n",
    "        predictions.append(preds[0])"
   ]
  },
  {
   "cell_type": "code",
   "execution_count": null,
   "metadata": {
    "collapsed": false
   },
   "outputs": [],
   "source": [
    "print len(ids), len(predictions)"
   ]
  },
  {
   "cell_type": "code",
   "execution_count": null,
   "metadata": {
    "collapsed": false
   },
   "outputs": [],
   "source": [
    "%%time\n",
    "ids = [val for sublist in ids for val in sublist]\n",
    "predictions = [val for sublist in predictions for val in sublist]"
   ]
  },
  {
   "cell_type": "code",
   "execution_count": null,
   "metadata": {
    "collapsed": false
   },
   "outputs": [],
   "source": [
    "print len(ids), len(predictions)"
   ]
  },
  {
   "cell_type": "code",
   "execution_count": null,
   "metadata": {
    "collapsed": false
   },
   "outputs": [],
   "source": [
    "%%time\n",
    "submission = pd.DataFrame()\n",
    "submission['row_id'] = ids\n",
    "submission['place_id'] = [' '.join(str(x) for x in y) for y in predictions]"
   ]
  },
  {
   "cell_type": "code",
   "execution_count": null,
   "metadata": {
    "collapsed": false
   },
   "outputs": [],
   "source": [
    "%%time\n",
    "submission.head()"
   ]
  },
  {
   "cell_type": "code",
   "execution_count": null,
   "metadata": {
    "collapsed": false
   },
   "outputs": [],
   "source": [
    "%%time\n",
    "submission.to_csv('submissions/submission-0-2.5.csv', index=False)"
   ]
  },
  {
   "cell_type": "code",
   "execution_count": null,
   "metadata": {
    "collapsed": false
   },
   "outputs": [],
   "source": [
    "%%time\n",
    "submission_1 = pd.read_csv('submissions/submission-0-2.csv')\n",
    "submission_2 = pd.read_csv('submissions/submission-2-4.csv')\n",
    "submission_3 = pd.read_csv('submissions/submission-4-6.csv')\n",
    "submission_4 = pd.read_csv('submissions/submission-6-8.csv')\n",
    "submission_5 = pd.read_csv('submissions/submission-8-10.csv')"
   ]
  },
  {
   "cell_type": "code",
   "execution_count": null,
   "metadata": {
    "collapsed": false
   },
   "outputs": [],
   "source": [
    "%%time\n",
    "submission_concat = pd.concat([submission_1,submission_2,submission_3,submission_4, submission_5], ignore_index=True)"
   ]
  },
  {
   "cell_type": "code",
   "execution_count": null,
   "metadata": {
    "collapsed": false
   },
   "outputs": [],
   "source": [
    "%%time\n",
    "submission_concat.sort_values('row_id', inplace=True)"
   ]
  },
  {
   "cell_type": "code",
   "execution_count": null,
   "metadata": {
    "collapsed": false
   },
   "outputs": [],
   "source": [
    "%%time\n",
    "print len(test), len(submission_concat)"
   ]
  },
  {
   "cell_type": "code",
   "execution_count": null,
   "metadata": {
    "collapsed": false
   },
   "outputs": [],
   "source": [
    "submission_concat.head()"
   ]
  },
  {
   "cell_type": "code",
   "execution_count": null,
   "metadata": {
    "collapsed": false
   },
   "outputs": [],
   "source": [
    "%%time\n",
    "submission_concat.to_csv('final_submission.csv', index=False)"
   ]
  },
  {
   "cell_type": "code",
   "execution_count": 74,
   "metadata": {
    "collapsed": false
   },
   "outputs": [
    {
     "name": "stdout",
     "output_type": "stream",
     "text": [
      "CPU times: user 318 ms, sys: 545 ms, total: 863 ms\n",
      "Wall time: 980 ms\n"
     ]
    }
   ],
   "source": [
    "%%time\n",
    "# Test:  2.0 2.25 1.0 1.25 22684 5978\n",
    "# Test:  1.75 2.0 9.5 9.75 21100 6806\n",
    "train_reduced = train[(train.x >= 1) & (train.x < 1.1) & (train.y >= 2.5) & (train.y < 2.6)]"
   ]
  },
  {
   "cell_type": "code",
   "execution_count": 75,
   "metadata": {
    "collapsed": false
   },
   "outputs": [
    {
     "name": "stdout",
     "output_type": "stream",
     "text": [
      "CPU times: user 567 ms, sys: 15.4 ms, total: 583 ms\n",
      "Wall time: 623 ms\n"
     ]
    }
   ],
   "source": [
    "%%time\n",
    "# train_reduced['day_number'] = ((train_reduced['time']/60)//24).astype(int)\n",
    "train_reduced['seconds'] = (train_reduced['time'] * 60)\n",
    "train_reduced['date_time'] = pd.to_datetime(train_reduced['seconds'],unit='s')\n",
    "train_reduced['hour'] = train_reduced['date_time'].dt.hour\n",
    "train_reduced['day'] = train_reduced['date_time'].dt.day\n",
    "train_reduced['dow'] = train_reduced['date_time'].dt.dayofweek\n",
    "train_reduced.x.replace(0, .0001, inplace=True)\n",
    "train_reduced.y.replace(0, .0001, inplace=True)\n",
    "train_reduced['div']= (train_reduced.x / train_reduced.y)\n",
    "train_reduced['multi']= (train_reduced.x * train_reduced.y)\n",
    "train_reduced['squadd']= (train_reduced.x**2 + train_reduced.y**2)\n",
    "train_reduced['acc_squ'] = (train_reduced.accuracy**2 / (train_reduced.x / train_reduced.y))\n",
    "train_reduced['acc_x'] = (train_reduced.accuracy * train_reduced.x)\n",
    "train_reduced['acc_y'] = (train_reduced.accuracy * train_reduced.y)"
   ]
  },
  {
   "cell_type": "code",
   "execution_count": 76,
   "metadata": {
    "collapsed": false
   },
   "outputs": [],
   "source": [
    "features = [c for c in train_reduced.columns if c in ['x', 'y', 'accuracy', 'hour', 'day', 'dow', 'div', 'multi', 'squadd', 'acc_squ', 'acc_x', 'acc_y']]"
   ]
  },
  {
   "cell_type": "code",
   "execution_count": 77,
   "metadata": {
    "collapsed": false
   },
   "outputs": [
    {
     "name": "stdout",
     "output_type": "stream",
     "text": [
      "CPU times: user 8.19 ms, sys: 1.83 ms, total: 10 ms\n",
      "Wall time: 9.14 ms\n"
     ]
    }
   ],
   "source": [
    "%%time\n",
    "features_train, features_test, labels_train, labels_test = cross_validation.train_test_split(train_reduced[features], train_reduced['place_id'], test_size=0.70)\n",
    "# features_train, features_test, labels_train, labels_test = cross_validation.train_test_split(features_train, labels_train, test_size=0.60)"
   ]
  },
  {
   "cell_type": "code",
   "execution_count": 78,
   "metadata": {
    "collapsed": false
   },
   "outputs": [
    {
     "name": "stdout",
     "output_type": "stream",
     "text": [
      "Estimators: 70 MapK: 0.642618251314\n",
      "Done in: 1.203 s\n",
      "CPU times: user 1.26 s, sys: 158 ms, total: 1.42 s\n",
      "Wall time: 1.2 s\n"
     ]
    }
   ],
   "source": [
    "%%time\n",
    "# estimators = [20,30,40,50,60,65,70]\n",
    "# for estimator in estimators :\n",
    "t0 = time()\n",
    "forest = ensemble.RandomForestClassifier(n_estimators=60, min_samples_leaf=5, n_jobs=-1).fit(features_train, labels_train)\n",
    "probs = pd.DataFrame(forest.predict_proba(features_test))\n",
    "probs.columns = np.unique(labels_train.sort_values().values)\n",
    "preds = pd.DataFrame([list([r.sort_values(ascending=False)[:3].index.values]) for i,r in probs.iterrows()])\n",
    "print \"Estimators:\", estimator, \"MapK:\", mapk([[l] for l in labels_test], preds[0], 3)\n",
    "print \"Done in:\",round(time()-t0,3),\"s\""
   ]
  },
  {
   "cell_type": "code",
   "execution_count": 79,
   "metadata": {
    "collapsed": false
   },
   "outputs": [
    {
     "name": "stdout",
     "output_type": "stream",
     "text": [
      "Feature ranking:\n",
      "1. feature 1 - y (0.220735)\n",
      "2. feature 8 - squadd (0.170212)\n",
      "3. feature 6 - div (0.108722)\n",
      "4. feature 7 - multi (0.100707)\n",
      "5. feature 3 - hour (0.096442)\n",
      "6. feature 0 - x (0.087642)\n",
      "7. feature 9 - acc_squ (0.044467)\n",
      "8. feature 10 - acc_x (0.042927)\n",
      "9. feature 11 - acc_y (0.039968)\n",
      "10. feature 2 - accuracy (0.036932)\n",
      "11. feature 5 - dow (0.031126)\n",
      "12. feature 4 - day (0.020120)\n"
     ]
    },
    {
     "data": {
      "image/png": "[encoded data removed]",
      "text/plain": [
       "<matplotlib.figure.Figure at 0x11ae27050>"
      ]
     },
     "metadata": {},
     "output_type": "display_data"
    }
   ],
   "source": [
    "importances = forest.feature_importances_\n",
    "std = np.std([tree.feature_importances_ for tree in forest.estimators_],\n",
    "             axis=0)\n",
    "indices = np.argsort(importances)[::-1]\n",
    "\n",
    "# Print the feature ranking\n",
    "print(\"Feature ranking:\")\n",
    "\n",
    "for f in range(features_train.shape[1]):\n",
    "    print(\"%d. feature %d - %s (%f)\" % (f + 1, indices[f], features_train.columns[indices[f]], importances[indices[f]]))\n",
    "\n",
    "# Plot the feature importances of the forest\n",
    "plt.figure()\n",
    "plt.title(\"Feature importances\")\n",
    "plt.bar(range(features_train.shape[1]), importances[indices],\n",
    "       color=\"bisque\", yerr=std[indices], align=\"center\")\n",
    "plt.xticks(range(features_train.shape[1]), indices)\n",
    "plt.xlim([-1, features_train.shape[1]])\n",
    "plt.show()"
   ]
  },
  {
   "cell_type": "code",
   "execution_count": 63,
   "metadata": {
    "collapsed": false
   },
   "outputs": [
    {
     "data": {
      "text/html": [
       "<div>\n",
       "<table border=\"1\" class=\"dataframe\">\n",
       "  <thead>\n",
       "    <tr style=\"text-align: right;\">\n",
       "      <th></th>\n",
       "      <th>x</th>\n",
       "      <th>y</th>\n",
       "      <th>accuracy</th>\n",
       "      <th>hour</th>\n",
       "      <th>day</th>\n",
       "      <th>dow</th>\n",
       "      <th>div</th>\n",
       "      <th>multi</th>\n",
       "      <th>squadd</th>\n",
       "      <th>acc_squ</th>\n",
       "      <th>acc_x</th>\n",
       "      <th>acc_y</th>\n",
       "    </tr>\n",
       "  </thead>\n",
       "  <tbody>\n",
       "    <tr>\n",
       "      <th>1070</th>\n",
       "      <td>2.0568</td>\n",
       "      <td>1.0406</td>\n",
       "      <td>7</td>\n",
       "      <td>21</td>\n",
       "      <td>30</td>\n",
       "      <td>0</td>\n",
       "      <td>1.976552</td>\n",
       "      <td>2.140306</td>\n",
       "      <td>5.313275</td>\n",
       "      <td>24.790646</td>\n",
       "      <td>14.3976</td>\n",
       "      <td>7.2842</td>\n",
       "    </tr>\n",
       "    <tr>\n",
       "      <th>1332</th>\n",
       "      <td>2.0819</td>\n",
       "      <td>1.0337</td>\n",
       "      <td>18</td>\n",
       "      <td>1</td>\n",
       "      <td>28</td>\n",
       "      <td>1</td>\n",
       "      <td>2.014027</td>\n",
       "      <td>2.152060</td>\n",
       "      <td>5.402843</td>\n",
       "      <td>160.871704</td>\n",
       "      <td>37.4742</td>\n",
       "      <td>18.6066</td>\n",
       "    </tr>\n",
       "    <tr>\n",
       "      <th>3933</th>\n",
       "      <td>2.0638</td>\n",
       "      <td>1.0326</td>\n",
       "      <td>136</td>\n",
       "      <td>15</td>\n",
       "      <td>5</td>\n",
       "      <td>2</td>\n",
       "      <td>1.998644</td>\n",
       "      <td>2.131080</td>\n",
       "      <td>5.325533</td>\n",
       "      <td>9254.273476</td>\n",
       "      <td>280.6768</td>\n",
       "      <td>140.4336</td>\n",
       "    </tr>\n",
       "    <tr>\n",
       "      <th>16872</th>\n",
       "      <td>2.0426</td>\n",
       "      <td>1.0454</td>\n",
       "      <td>67</td>\n",
       "      <td>6</td>\n",
       "      <td>4</td>\n",
       "      <td>2</td>\n",
       "      <td>1.953893</td>\n",
       "      <td>2.135334</td>\n",
       "      <td>5.265076</td>\n",
       "      <td>2297.464310</td>\n",
       "      <td>136.8542</td>\n",
       "      <td>70.0418</td>\n",
       "    </tr>\n",
       "    <tr>\n",
       "      <th>19876</th>\n",
       "      <td>2.0231</td>\n",
       "      <td>1.0527</td>\n",
       "      <td>1</td>\n",
       "      <td>16</td>\n",
       "      <td>7</td>\n",
       "      <td>4</td>\n",
       "      <td>1.921820</td>\n",
       "      <td>2.129717</td>\n",
       "      <td>5.201111</td>\n",
       "      <td>0.520340</td>\n",
       "      <td>2.0231</td>\n",
       "      <td>1.0527</td>\n",
       "    </tr>\n",
       "  </tbody>\n",
       "</table>\n",
       "</div>"
      ],
      "text/plain": [
       "            x       y  accuracy  hour  day  dow       div     multi    squadd  \\\n",
       "1070   2.0568  1.0406         7    21   30    0  1.976552  2.140306  5.313275   \n",
       "1332   2.0819  1.0337        18     1   28    1  2.014027  2.152060  5.402843   \n",
       "3933   2.0638  1.0326       136    15    5    2  1.998644  2.131080  5.325533   \n",
       "16872  2.0426  1.0454        67     6    4    2  1.953893  2.135334  5.265076   \n",
       "19876  2.0231  1.0527         1    16    7    4  1.921820  2.129717  5.201111   \n",
       "\n",
       "           acc_squ     acc_x     acc_y  \n",
       "1070     24.790646   14.3976    7.2842  \n",
       "1332    160.871704   37.4742   18.6066  \n",
       "3933   9254.273476  280.6768  140.4336  \n",
       "16872  2297.464310  136.8542   70.0418  \n",
       "19876     0.520340    2.0231    1.0527  "
      ]
     },
     "execution_count": 63,
     "metadata": {},
     "output_type": "execute_result"
    }
   ],
   "source": [
    "train_reduced[features].head()"
   ]
  },
  {
   "cell_type": "code",
   "execution_count": 21,
   "metadata": {
    "collapsed": false
   },
   "outputs": [
    {
     "name": "stdout",
     "output_type": "stream",
     "text": [
      "Leafs: 1 MapK: 0.588170416588\n",
      "Done in: 11.282 s\n",
      "Leafs: 5 MapK: 0.603527236823\n",
      "Done in: 8.599 s\n",
      "Leafs: 10 MapK: 0.593170311548\n",
      "Done in: 8.102 s\n",
      "Leafs: 50 MapK: 0.54758303397\n",
      "Done in: 7.415 s\n",
      "Leafs: 100 MapK: 0.512226633894\n",
      "Done in: 7.405 s\n",
      "Leafs: 200 MapK: 0.464118400874\n",
      "Done in: 7.705 s\n",
      "Leafs: 500 MapK: 0.360643683956\n",
      "Done in: 7.537 s\n",
      "CPU times: user 1min 22s, sys: 18.7 s, total: 1min 40s\n",
      "Wall time: 58 s\n"
     ]
    }
   ],
   "source": [
    "%%time\n",
    "sample_leaf_options = [1,5,10,50,100,200,500]\n",
    "for leaf_size in sample_leaf_options:\n",
    "    t0 = time()\n",
    "    forest = ensemble.RandomForestClassifier(n_estimators=60, min_samples_leaf=leaf_size, n_jobs=-1).fit(features_train, labels_train)\n",
    "    probs = pd.DataFrame(forest.predict_proba(features_test))\n",
    "    probs.columns = np.unique(labels_train.sort_values().values)\n",
    "    preds = pd.DataFrame([list([r.sort_values(ascending=False)[:3].index.values]) for i,r in probs.iterrows()])\n",
    "    print \"Leafs:\", leaf_size, \"MapK:\", mapk([[l] for l in labels_test], preds[0], 3)\n",
    "    print \"Done in:\",round(time()-t0,3),\"s\""
   ]
  },
  {
   "cell_type": "code",
   "execution_count": 185,
   "metadata": {
    "collapsed": false
   },
   "outputs": [
    {
     "name": "stdout",
     "output_type": "stream",
     "text": [
      "Estimators: 60 MapK: 0.605316529045\n",
      "Done in: 1.791 s\n",
      "Estimators: 60 MapK: 0.369638635596\n",
      "Done in: 1.226 s\n",
      "Estimators: 60 MapK: 0.653373463757\n",
      "Done in: 1.788 s\n",
      "Estimators: 60 MapK: 0.630403130403\n",
      "Done in: 2.265 s\n",
      "Estimators: 60 MapK: 0.632043842682\n",
      "Done in: 1.909 s\n",
      "Estimators: 60 MapK: 0.550853150611\n",
      "Done in: 1.782 s\n",
      "Estimators: 60 MapK: 0.59426107642\n",
      "Done in: 1.701 s\n",
      "Estimators: 60 MapK: 0.503251342946\n",
      "Done in: 1.275 s\n",
      "Estimators: 60 MapK: 0.475933908046\n",
      "Done in: 1.335 s\n",
      "Estimators: 60 MapK: 0.535040431267\n",
      "Done in: 1.49 s\n",
      "CPU times: user 20.2 s, sys: 3.56 s, total: 23.7 s\n",
      "Wall time: 21.4 s\n"
     ]
    }
   ],
   "source": [
    "%%time\n",
    "# Test:  2.0 2.25 1.0 1.25 22684 5978\n",
    "# Test:  1.75 2.0 9.5 9.75 21100 6806\n",
    "# estimators = [20,30,40,50,60,65,70]\n",
    "for i in np.arange(4,5,.1):\n",
    "    train_reduced = train[(train.x >= 4) & (train.x <= 4.1) & (train.y >= i) & (train.y <= (i + .1))]\n",
    "    t0 = time()\n",
    "    train_reduced['seconds'] = (train_reduced['time'] * 60)\n",
    "    train_reduced['date_time'] = pd.to_datetime(train_reduced['seconds'],unit='s')\n",
    "    train_reduced['hour'] = train_reduced['date_time'].dt.hour\n",
    "    train_reduced['day'] = train_reduced['date_time'].dt.day\n",
    "    train_reduced['dow'] = train_reduced['date_time'].dt.dayofweek\n",
    "    train_reduced.x.replace(0, .0001, inplace=True)\n",
    "    train_reduced.y.replace(0, .0001, inplace=True)\n",
    "    train_reduced['div']= (train_reduced.x / train_reduced.y)\n",
    "    train_reduced['multi']= (train_reduced.x * train_reduced.y)\n",
    "    train_reduced['squadd']= (train_reduced.x**2 + train_reduced.y**2)\n",
    "    train_reduced['acc_squ'] = (train_reduced.accuracy**2 / (train_reduced.x / train_reduced.y))\n",
    "    train_reduced['acc_x'] = (train_reduced.accuracy * train_reduced.x)\n",
    "    train_reduced['acc_y'] = (train_reduced.accuracy * train_reduced.y)\n",
    "    features = [c for c in train_reduced.columns if c in ['x', 'y', 'accuracy', 'hour', 'day', 'dow', 'div', 'multi', 'squadd', 'acc_squ', 'acc_x', 'acc_y']]\n",
    "    features_train, features_test, labels_train, labels_test = cross_validation.train_test_split(train_reduced[features], train_reduced['place_id'], test_size=0.70)\n",
    "    forest = ensemble.RandomForestClassifier(n_estimators=60, min_samples_leaf=5, n_jobs=-1).fit(features_train, labels_train)\n",
    "    probs = pd.DataFrame(forest.predict_proba(features_test))\n",
    "    probs.columns = np.unique(labels_train.sort_values().values)\n",
    "    preds = pd.DataFrame([list([r.sort_values(ascending=False)[:3].index.values]) for i,r in probs.iterrows()])\n",
    "    print \"Estimators:\", 60, \"MapK:\", mapk([[l] for l in labels_test], preds[0], 3)\n",
    "    print \"Done in:\",round(time()-t0,3),\"s\""
   ]
  },
  {
   "cell_type": "code",
   "execution_count": null,
   "metadata": {
    "collapsed": false
   },
   "outputs": [],
   "source": [
    "%%time\n",
    "# neigh = neighbors.KNeighborsClassifier(weights='distance', n_jobs=-1).fit(features_train, labels_train)\n",
    "forest = ensemble.RandomForestClassifier(n_estimators=60, min_samples_leaf=5, n_jobs=-1).fit(features_train, labels_train)\n",
    "# bayes = naive_bayes.GaussianNB().fit(features_train.toarray(), labels_train)\n",
    "# boost = xgb.XGBClassifier(learning_rate=1,\n",
    "#                           n_estimators=10,\n",
    "#                           max_depth=5,\n",
    "#                           min_child_weight=1,\n",
    "#                           gamma=0,\n",
    "#                           subsample=0.8,\n",
    "#                           colsample_bytree=0.8,\n",
    "#                           nthread=4,\n",
    "#                           scale_pos_weight=1,\n",
    "#                           seed=27,\n",
    "#                           objective='multi:softprob').fit(features_train, labels_train)\n",
    "#  learning_rate = 1,\n",
    "#  max_depth=5,\n",
    "#  min_child_weight=1,\n",
    "#  gamma=0,\n",
    "#  subsample=0.8,\n",
    "#  colsample_bytree=0.8,\n",
    "#  objective= 'multi:softprob',\n",
    "#  nthread=4,\n",
    "#  scale_pos_weight=1,\n",
    "#  seed=27).fit(features_train, labels_train)"
   ]
  },
  {
   "cell_type": "code",
   "execution_count": null,
   "metadata": {
    "collapsed": false
   },
   "outputs": [],
   "source": [
    "print train_reduced['date_time'].min(), train_reduced['date_time'].max()"
   ]
  },
  {
   "cell_type": "code",
   "execution_count": null,
   "metadata": {
    "collapsed": false
   },
   "outputs": [],
   "source": [
    "plt.rcParams[\"figure.figsize\"] = [12,9]\n",
    "plt.hist(train_reduced.day_number, bins=100, histtype = 'step')\n",
    "plt.autoscale(enable=True, axis='both', tight=True)"
   ]
  },
  {
   "cell_type": "code",
   "execution_count": null,
   "metadata": {
    "collapsed": false
   },
   "outputs": [],
   "source": [
    "plt.rcParams[\"figure.figsize\"] = [12,9]\n",
    "plt.hist(train_reduced.dow, bins=7)\n",
    "plt.autoscale(enable=True, axis='both', tight=True)"
   ]
  },
  {
   "cell_type": "code",
   "execution_count": null,
   "metadata": {
    "collapsed": false
   },
   "outputs": [],
   "source": [
    "plt.rcParams[\"figure.figsize\"] = [12,9]\n",
    "plt.hist(train_reduced.hour, bins=24)\n",
    "plt.autoscale(enable=True, axis='both', tight=True)"
   ]
  },
  {
   "cell_type": "code",
   "execution_count": null,
   "metadata": {
    "collapsed": false
   },
   "outputs": [],
   "source": [
    "plt.rcParams[\"figure.figsize\"] = [12,9]\n",
    "plt.scatter(train_reduced.x,train_reduced.y, c=train_reduced.place_id)\n",
    "plt.autoscale(enable=True, axis='both', tight=True)"
   ]
  },
  {
   "cell_type": "code",
   "execution_count": null,
   "metadata": {
    "collapsed": false
   },
   "outputs": [],
   "source": [
    "%%time\n",
    "small_counts = train_reduced['place_id'].value_counts()\n",
    "small_trainz = train_reduced[train_reduced['place_id'].isin(small_counts[small_counts > 100].index)]\n",
    "print len(small_trainz)"
   ]
  },
  {
   "cell_type": "code",
   "execution_count": null,
   "metadata": {
    "collapsed": false
   },
   "outputs": [],
   "source": [
    "small_counts.describe()"
   ]
  },
  {
   "cell_type": "code",
   "execution_count": null,
   "metadata": {
    "collapsed": false
   },
   "outputs": [],
   "source": [
    "%%time\n",
    "small_counts = train_reduced['place_id'].value_counts()\n",
    "small_trainz = train_reduced[train_reduced['place_id'].isin(small_counts[small_counts > 600].index)]\n",
    "fig = plt.figure()\n",
    "ax = fig.add_subplot(111, projection='3d')\n",
    "# ax.scatter(small_trainz.x, small_trainz.y, zs=small_trainz.hour, zdir='z', s=20, c=small_trainz.place_id, depthshade=True)\n",
    "ax.scatter(train_reduced.x, train_reduced.y, zs=train_reduced.hour, zdir='z', s=20, c=train_reduced.place_id, depthshade=True)\n",
    "plt.autoscale(enable=True, axis='both', tight=True)"
   ]
  },
  {
   "cell_type": "code",
   "execution_count": null,
   "metadata": {
    "collapsed": false
   },
   "outputs": [],
   "source": [
    "%%time\n",
    "labels = train_reduced['place_id']\n",
    "train_ids = train_reduced['row_id']\n",
    "train_reduced = train_reduced[features]\n",
    "# Transform the string labels to numerical using label encoder \n",
    "train_reduced.hour = le.fit_transform(train_reduced.hour)\n",
    "train_reduced.day = le.fit_transform(train_reduced.day)\n",
    "train_reduced.dow = le.fit_transform(train_reduced.dow)\n",
    "\n",
    "categ = [list(train_reduced.columns).index(x) for x in 'hour', 'dow', 'day']\n",
    "enc = preprocessing.OneHotEncoder(categorical_features = categ)\n",
    "train_reduced['hour'] = pd.factorize(train_reduced['hour'])[0]\n",
    "train_reduced['day'] = pd.factorize(train_reduced['day'])[0]\n",
    "train_reduced['dow'] = pd.factorize(train_reduced['dow'])[0]\n",
    "train_reduced = enc.fit_transform(train_reduced)\n",
    "print train_reduced.shape"
   ]
  },
  {
   "cell_type": "code",
   "execution_count": null,
   "metadata": {
    "collapsed": false
   },
   "outputs": [],
   "source": [
    "%%time\n",
    "labels = train_reduced['place_id']\n",
    "train_ids = train_reduced['row_id']\n",
    "train_reduced = train_reduced[features]"
   ]
  },
  {
   "cell_type": "code",
   "execution_count": null,
   "metadata": {
    "collapsed": false
   },
   "outputs": [],
   "source": [
    "%%time\n",
    "features_train, features_test, labels_train, labels_test = cross_validation.train_test_split(train_reduced[features], train_reduced['place_id'], test_size=0.70)\n",
    "# features_train, features_test, labels_train, labels_test = cross_validation.train_test_split(features_train, labels_train, test_size=0.60)"
   ]
  },
  {
   "cell_type": "code",
   "execution_count": null,
   "metadata": {
    "collapsed": false
   },
   "outputs": [],
   "source": [
    "%%time\n",
    "probs = pd.DataFrame(boost.predict_proba(features_test))\n",
    "probs.columns = np.unique(labels_train.sort_values().values)\n",
    "#probs.columns = np.unique(labels_train.values)\n",
    "preds = pd.DataFrame([list([r.sort_values(ascending=False)[:3].index.values]) for i,r in probs.iterrows()])\n",
    "print mapk([[l] for l in labels_test], preds[0], 3)"
   ]
  },
  {
   "cell_type": "code",
   "execution_count": null,
   "metadata": {
    "collapsed": false
   },
   "outputs": [],
   "source": [
    "%%time\n",
    "probs = pd.DataFrame(forest.predict_proba(features_test))\n",
    "probs.columns = np.unique(labels_train.sort_values().values)\n",
    "#probs.columns = np.unique(labels_train.values)\n",
    "preds = pd.DataFrame([list([r.sort_values(ascending=False)[:3].index.values]) for i,r in probs.iterrows()])\n",
    "print mapk([[l] for l in labels_test], preds[0], 3)"
   ]
  },
  {
   "cell_type": "code",
   "execution_count": null,
   "metadata": {
    "collapsed": false
   },
   "outputs": [],
   "source": [
    "%%time\n",
    "probs = pd.DataFrame(bayes.predict_proba(features_test.toarray()))\n",
    "probs.columns = np.unique(labels_train.sort_values().values)\n",
    "#probs.columns = np.unique(labels_train.values)\n",
    "preds = pd.DataFrame([list([r.sort_values(ascending=False)[:3].index.values]) for i,r in probs.iterrows()])\n",
    "print mapk([[l] for l in labels_test], preds[0], 3)"
   ]
  },
  {
   "cell_type": "code",
   "execution_count": null,
   "metadata": {
    "collapsed": false
   },
   "outputs": [],
   "source": [
    "%%time\n",
    "probs = pd.DataFrame(neigh.predict_proba(features_test))\n",
    "probs.columns = np.unique(labels_train.sort_values().values)\n",
    "#probs.columns = np.unique(labels_train.values)\n",
    "preds = pd.DataFrame([list([r.sort_values(ascending=False)[:3].index.values]) for i,r in probs.iterrows()])\n",
    "print mapk([[l] for l in labels_test], preds[0], 3)"
   ]
  },
  {
   "cell_type": "code",
   "execution_count": null,
   "metadata": {
    "collapsed": true
   },
   "outputs": [],
   "source": []
  }
 ],
 "metadata": {
  "kernelspec": {
   "display_name": "Python 2",
   "language": "python",
   "name": "python2"
  },
  "language_info": {
   "codemirror_mode": {
    "name": "ipython",
    "version": 2
   },
   "file_extension": ".py",
   "mimetype": "text/x-python",
   "name": "python",
   "nbconvert_exporter": "python",
   "pygments_lexer": "ipython2",
   "version": "2.7.11"
  }
 },
 "nbformat": 4,
 "nbformat_minor": 0
}
